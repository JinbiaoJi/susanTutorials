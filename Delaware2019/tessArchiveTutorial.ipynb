{
 "cells": [
  {
   "cell_type": "markdown",
   "metadata": {},
   "source": [
    "# TESS Archive Tutorial\n",
    "### By Susan E. Mullally\n",
    "\n",
    "This is an overview of how to use the astroquery programmatic language to access TESS data at MAST.\n",
    "\n",
    "This tutorial will cover the following: Querying the TIC, Finding 2-min cadence data from the archive, understanding the difference between target pixel files and light curve files, using TESSCut to work with the FFIs.\n",
    "\n",
    "See the following presentation for some information on TESS and the archive.\n",
    "https://docs.google.com/presentation/d/1YImXs_gsx8eOTrM2TLKBL4GaR1Hd5jrTowQwuF975a8/edit?usp=sharing\n",
    "\n",
    "For more information about the TESS Archive, see https://outerspace.stsci.edu/display/TESS/TESS+Archive+Manual\n",
    "\n",
    "Most of this tutorial has been borrowed from tutorials by Scott Fleming, Susan Mullally and Clara Brasseur.\n"
   ]
  },
  {
   "cell_type": "markdown",
   "metadata": {},
   "source": [
    "**Let's get started**"
   ]
  },
  {
   "cell_type": "markdown",
   "metadata": {},
   "source": [
    "## Querying the TIC\n",
    "We will start by using astroquery to query the TESS Input Catalog.  Not all MAST catalogs are available through astroquery.mast.Catalogs"
   ]
  },
  {
   "cell_type": "code",
   "execution_count": null,
   "metadata": {},
   "outputs": [],
   "source": [
    "from astroquery.mast import Catalogs\n",
    "from astroquery.mast import Observations\n",
    "import numpy as np\n",
    "import matplotlib.pyplot as plt\n",
    "%matplotlib inline "
   ]
  },
  {
   "cell_type": "markdown",
   "metadata": {},
   "source": [
    "## Astroquery Catalog Cone Search on TIC\n",
    "\n",
    "We will now use the Catalogs `query_object` function to do a cone search centered on BPM 31594 and return the rows from the TIC catalog.  The function makes use of MAST's name resolver to convert a target name (as a string) into coordinates (Right Ascension and Declination).  Many types of ID's are possible, including any string that can be resolved by Simbad or NED, as well as any target in the Kepler Input Catalog, K2 EPIC Catalog, or the TESS Input Catalog.  The function also can accept a search radius size (specified in degrees), and it needs to know which catalog you want to query.  Catalog options are listed on [this page](https://astroquery.readthedocs.io/en/latest/mast/mast.html#catalog-queries).\n"
   ]
  },
  {
   "cell_type": "code",
   "execution_count": null,
   "metadata": {},
   "outputs": [],
   "source": [
    "target_name = \"BPM 31594\"  #Pulsating White Dwarf Star\n",
    "search_radius_deg = 0.1\n",
    "\n",
    "# Query the TESS Input Catalog centered on HD 209458 with a 0.2 degree radius.\n",
    "catalogTIC = Catalogs.query_object(target_name, radius=search_radius_deg, catalog=\"TIC\")\n",
    "\n",
    "# Print out the number of returned rows.\n",
    "print(\"Number of TIC objects within %f deg of %s: %u\" % (search_radius_deg, target_name, len(catalogTIC)))"
   ]
  },
  {
   "cell_type": "code",
   "execution_count": null,
   "metadata": {},
   "outputs": [],
   "source": [
    "#Print out the columns\n",
    "catalogTIC.columns"
   ]
  },
  {
   "cell_type": "code",
   "execution_count": null,
   "metadata": {},
   "outputs": [],
   "source": [
    "where_closest = np.argmin(catalogTIC['dstArcSec'])\n",
    "\n",
    "print(\"Closest TIC ID to %s: TIC %s, separation of %f deg. and a TESS mag. of %f\"%\n",
    "      (target_name, catalogTIC['ID'][where_closest], catalogTIC['dstArcSec'][where_closest],\n",
    "      catalogTIC['Tmag'][where_closest]))\n",
    "\n",
    "ticid = catalogTIC['ID'][where_closest]"
   ]
  },
  {
   "cell_type": "markdown",
   "metadata": {},
   "source": [
    "### Problem.  TIC Query\n",
    "Determine the ticid of L19-2, a pulsating white dwarf with V magnitude of 13.7."
   ]
  },
  {
   "cell_type": "code",
   "execution_count": null,
   "metadata": {},
   "outputs": [],
   "source": [
    "target_name = \"L19-2\"\n",
    "#Your code here\n"
   ]
  },
  {
   "cell_type": "markdown",
   "metadata": {},
   "source": [
    "### Extra Credit. Direct TIC Query\n",
    "Directly filter the TIC by the integer tic ID to look up the Tess Mag and RA and Dec of that object in the catalog. This is done by using the Catalogs query_criteria and setting the catalog to \"TIC\".  Take a look at the examples on the [astroquery documentation page](https://astroquery.readthedocs.io/en/latest/mast/mast.html) to see if you can figure out how to filter the TIC by \"ID\"."
   ]
  },
  {
   "cell_type": "code",
   "execution_count": null,
   "metadata": {},
   "outputs": [],
   "source": [
    "#Your code here\n"
   ]
  },
  {
   "cell_type": "markdown",
   "metadata": {},
   "source": [
    "## Finding Lightcurves at MAST"
   ]
  },
  {
   "cell_type": "code",
   "execution_count": null,
   "metadata": {},
   "outputs": [],
   "source": [
    "from astroquery.mast import Observations\n",
    "from astropy.io import fits"
   ]
  },
  {
   "cell_type": "markdown",
   "metadata": {},
   "source": [
    "## Query the MAST CAOM Database\n",
    "\n",
    "We want to retrieve TESS timeseries data (lightcurve and target pixel files) for the Guest Investigator program G011113 from Sector 1 (PI: JJ Hermes). We will need to query the MAST holdings database for the observations.  First we will simply count the number of observations and then we will request a table of those observations. \n",
    "\n",
    "All the filter names are listed on the [MAST CAOM Field Description Page](https://mast.stsci.edu/api/v0/_c_a_o_mfields.html). Or, can be found by hovering over the column names after doing a search in the MAST portal.\n",
    "\n",
    "The filters we will need to use are, \n",
    "- **obs_collection** to specify that we want TESS data\n",
    "- **dataproduct_type** to specify that we want timeseries data\n",
    "- **sequence_number** to specify that we want sector 1  \n",
    "- **propsal_id** to specify the GI program number.  \n",
    "\n",
    "Hint! More than one GI can propose for the same target so we need wild cards around the name of the program in our query."
   ]
  },
  {
   "cell_type": "code",
   "execution_count": null,
   "metadata": {},
   "outputs": [],
   "source": [
    "#Count the number of observations with query_criteria_count\n",
    "obsCount = Observations.query_criteria_count(obs_collection = \"TESS\",\n",
    "                                             dataproduct_type = [\"timeseries\"],\n",
    "                                             sequence_number = 1,\n",
    "                                             proposal_id = \"*G011113*\")\n",
    "print(\"Number of Observations: %i\" % obsCount)\n",
    "\n",
    "#Print the first 5 with query_criteria\n",
    "#Notice that the query is the same.\n",
    "obsTable = Observations.query_criteria(obs_collection = \"TESS\",\n",
    "                                       dataproduct_type = [\"timeseries\"],\n",
    "                                       sequence_number = 1,\n",
    "                                       proposal_id = \"*G011113*\")\n",
    "obsTable[0:5]['obsid','proposal_id','obs_id']"
   ]
  },
  {
   "cell_type": "markdown",
   "metadata": {},
   "source": [
    "### Problem: Query CAOM\n",
    "Query the same GI program number, but this time try to get all timeseries observed in Sector 1 -- Sector 7. How many observations are there? "
   ]
  },
  {
   "cell_type": "code",
   "execution_count": null,
   "metadata": {},
   "outputs": [],
   "source": [
    "#Your Code Here\n"
   ]
  },
  {
   "cell_type": "markdown",
   "metadata": {},
   "source": [
    "## Retrieve the list of Data Products\n",
    "\n",
    "Next we use astroquery to retrieve the list of data products that are associated with each observation.  \n",
    "\n",
    "We will only ask for the data product list associated with the first two in obsTable.  The `[0:10]` can be removed from the code below to get all the observations."
   ]
  },
  {
   "cell_type": "code",
   "execution_count": null,
   "metadata": {},
   "outputs": [],
   "source": [
    "dataProducts = Observations.get_product_list(obsTable[0:10])\n",
    "dataProducts.colnames"
   ]
  },
  {
   "cell_type": "code",
   "execution_count": null,
   "metadata": {},
   "outputs": [],
   "source": [
    "#Print off the list of observations\n",
    "dataProducts['obsID', 'productFilename', 'description']"
   ]
  },
  {
   "cell_type": "markdown",
   "metadata": {},
   "source": [
    "## Download Light curves\n",
    "<a id=\"download\"></a>\n",
    "We limit our list of data products to just those with the **description** set to \"Light curves\" because we just want this type of data file. We then download those products. The manifest is an array indicating the download location of the files. "
   ]
  },
  {
   "cell_type": "code",
   "execution_count": null,
   "metadata": {},
   "outputs": [],
   "source": [
    "want = dataProducts['description'] == \"Light curves\"\n",
    "lcmanifest = Observations.download_products(dataProducts[want])\n",
    "print(lcmanifest['Local Path'])\n",
    "#also get the target pixel files for later.\n",
    "tpmanifest = Observations.download_products(dataProducts[dataProducts['description'] == \"Target pixel files\"])"
   ]
  },
  {
   "cell_type": "markdown",
   "metadata": {},
   "source": [
    "### Problem Download.\n",
    "Looks like the TESS SPOC pipeline found a TCE (Threshold Crossing Event) when it searched these data for indications of periodic tansits. When a TCE is found, the SPOC pipeline also creates a DV time series FITS file.  Download just the DV time series file for the first observation.\n",
    "\n",
    "Some of the other fields you might consider filtering on are listed [here](https://outerspace.stsci.edu/display/TESS/7.0+-+Tips+and+Tricks+to+Getting+TESS+Data+At+MAST).\n",
    "\n",
    "### Bonus Download Problem.\n",
    "How many of the sector 1 targets produced a TCE (i.e. have a DV time series file)?\n",
    "\n",
    "### Second Bonus Download Problem\n",
    "Determine how many missions (hint, MAST calls them obs_collection) have observed your favorite star.  Mine is G185-32. For this one you might want to see the [documentation](https://astroquery.readthedocs.io/en/latest/mast/mast.html) and read about Observations.query_object."
   ]
  },
  {
   "cell_type": "code",
   "execution_count": null,
   "metadata": {},
   "outputs": [],
   "source": [
    "#Your code here.\n",
    "\n",
    "#Bonus Problem\n",
    "\n",
    "#Second Bonus Problem\n"
   ]
  },
  {
   "cell_type": "markdown",
   "metadata": {},
   "source": [
    "## Exploring and Plotting the Light Curve File\n",
    "Let's open a light curve file and look at the different kind of data that is available.  For this let's use the first light curve file we downloaded, tess2018206045859-s0001-0000000140045537-0120-s_lc.fits. And it's associated target pixel file: tess2018206045859-s0001-0000000140045537-0120-s/tess2018206045859-s0001-0000000140045537-0120-s_tp.fits\n",
    "\n",
    "TESS  only downloads select portions of the sky at a 2-minute cadence. The pixels collected around chosen targets are packaged in a file called the Target Pixel file. Light curve files contain the time series photometry that is derived from those pixels for each target. Each target pixel file packages these pixels as a time series of images in a binary FITS table. These files can then be used to measure the relative photometry of the observed star.  TESS also produces full frame images at a 30-minute cadence. \n",
    "\n",
    "For more information about the TESS mission and collected data, visit the [MAST's TESS homepage](http://archive.stsci.edu/tess/). To read more details about TESS Data Products, look in the [TESS Science Product Description Document](https://archive.stsci.edu/missions/tess/doc/EXP-TESS-ARC-ICD-TM-0014.pdf). Once users understand the TESS data, a convenient software package to work with that data is called [lightkurve](https://docs.lightkurve.org/). However, we do not use it below in order to clearly show how the data in the files are organized. "
   ]
  },
  {
   "cell_type": "code",
   "execution_count": null,
   "metadata": {},
   "outputs": [],
   "source": [
    "from astropy.io import fits\n",
    "from astropy.wcs import WCS"
   ]
  },
  {
   "cell_type": "code",
   "execution_count": null,
   "metadata": {},
   "outputs": [],
   "source": [
    "#Use the manifests we created above. It's a 2D array where the file location is in the zeroth element.\n",
    "lcfile = lcmanifest[0][0]\n",
    "tpfile = tpmanifest[0][0]\n",
    "print(tpfile)"
   ]
  },
  {
   "cell_type": "markdown",
   "metadata": {},
   "source": [
    "## Contents of Target Pixel File\n",
    "\n",
    "Now that we have the file, we can now explore its contents. \n",
    "The target pixel file contains 4 extensions: a primary header, a PIXELS extension, an APERTURE extension and a Target Cosmic Ray extension. TPFs can be thought of as stacks of images, with one image for every timestamp the telescope took data. Each timestamp is referred to as a **cadence**. These images are cut out 'postage stamps' of the full observation to make them easier to work with. \n",
    "\n",
    "- **No. 0 (Primary):**\n",
    "<br>This HDU contains meta-data related to the entire file.\n",
    "- **No. 1 (Pixels):**\n",
    "<br>This HDU contains a binary table that has 11 columns containing a time series of either scalar values or images. \n",
    "- **No. 2 (Aperture):**\n",
    "<br>This HDU contains an image that gives information about each pixel and how it was used by ther TESS pipeline in the data processing. \n",
    "- **No. 3 (Target Cosmic Ray):** \n",
    "<br> This HDU is new in the TESS target pixel files and describes the cosmic rays that were identified and subtracted from the target pixels. These cosmic ray corrections are only available if the TESS Pipeline cosmic ray correction algorithm was enabled during processing.\n",
    "\n",
    "**Contents of the PIXELS extension.**\n",
    "The pixels extension contains raw and calibrated pixels collected by the spacecraft at a 2-minute cadence. Here is a sumary of the columns available in that extension.\n",
    "\n",
    "- TIME: Time of mid-cadence stored in BJD-2457000.0.\n",
    "- CADENCENO: Cadence number\n",
    "- RAW_CNTS: The raw counts per pixel before any processing.\n",
    "- FLUX: The calibrated, background subtracted pixels for each cadence.\n",
    "- FLUX_BKG: The background measured and removed for these pixels. \n",
    "- QUALITY: Quality flags.\n",
    "- POS_CORR1 & POS_CORR2: The (column,row) local motion of the star calculated from the motion polynomials. Motion polynomials are calculated from the PSF centroids of select stars on each CCD. "
   ]
  },
  {
   "cell_type": "code",
   "execution_count": null,
   "metadata": {},
   "outputs": [],
   "source": [
    "#Let's do a couple quick queries to show how to find that information in your files.\n",
    "fits.info(tpfile)\n",
    "tphdu = fits.open(tpfile)\n",
    "tphdu[1].columns"
   ]
  },
  {
   "cell_type": "markdown",
   "metadata": {},
   "source": [
    "**Show First Calibrated Image.** Note that the RAW_CNTS, FLUX and FLUX_BKG columns contain images. We will use the World Coordinate System information in the APERTURE extension header to overlay the RA and Dec on the image."
   ]
  },
  {
   "cell_type": "code",
   "execution_count": null,
   "metadata": {},
   "outputs": [],
   "source": [
    "#Plot the first image of the FLUX Column with WCS overlay.\n",
    "tpf_data = tphdu[1].data\n",
    "first_image = tpf_data['FLUX'][1]\n",
    "\n",
    "#The aperture extension header contains the same WCS as that in the Pixels extension.\n",
    "wcs = WCS(tphdu[2].header)\n",
    "\n",
    "#Plot the first image in the file.\n",
    "fig = plt.figure(figsize = (6,6))\n",
    "fig.add_subplot(111, projection = wcs)\n",
    "plt.imshow(first_image, origin = 'lower', cmap = plt.cm.viridis)\n",
    "plt.xlabel('RA', fontsize = 14)\n",
    "plt.ylabel('Dec', fontsize = 14)\n",
    "plt.grid(axis = 'both', color = 'white', ls = 'solid')"
   ]
  },
  {
   "cell_type": "markdown",
   "metadata": {},
   "source": [
    "## Contents of the Light Curve File\n",
    "The light curve file uses the information from the pixels to determine time series photometry. It also contains a host of information regarding the quality of each cadence, the observed motion of the star and how the light curve was extracted.  The extensions available in these data files are as follows. \n",
    "\n",
    "- **No. 0 (Primary):**\n",
    "<br>This HDU contains meta-data related to the entire file.\n",
    "- **No. 1 (Lightcurve):**\n",
    "<br>This HDU contains a binary table that has 11 columns containing a time series of either scalar values or images. \n",
    "- **No. 2 (Aperture):**\n",
    "<br>This HDU contains an image that gives information about each pixel and how it was used by ther TESS pipeline in the data processing. This is the same as the target pixel file. \n",
    "\n",
    "Recall that we defined lcfile above to point to the file hlsp_tess-data-alerts_tess_phot_00025155310-s01_tess_v1_lc.fits.\n",
    "\n",
    "**Lighturve Extension.** The lightcurve extension contains most of the data in this type of file. Let's list the columns available in this extension. Unlike the target pixel file, all these data are simply arrays instead of images. Here is a quick run down of the most important inormation in this file. \n",
    "\n",
    "- TIME: stored in BJD-2457000\n",
    "- CADENCENO: Cadence number\n",
    "- SAP_FLUX: Simple aperture photometry flux. (This is what we calculated above.)\n",
    "- SAP_BKG: Background flux that has already been removed from SAP_FLUX. \n",
    "- PDCSAP_FLUX: Systematics corrected photometry using cotrending basis vectors.\n",
    "- QUALITY: Quality flags\n",
    "- PSF_CENTR1 & PSF_CENTR2: The (column,row) position of the star measured using PSF photometry.\n",
    "- MOM_CENTR1 & MOM_CENTR2: The (column,row) position of the star measured using flux weighted centroids.\n",
    "- POS_CORR1 & POS_CORR2: The (column,row) local motion of the star calculated from the motion polynomials. Motion polynomials are calculated from the PSF centroids of select stars on each CCD. \n",
    "\n",
    "Note, while there is a WCS in the header of these files, it refers to one cadence near the middle of sector. The POS_CORR columns provide information about small changes to that WCS."
   ]
  },
  {
   "cell_type": "code",
   "execution_count": null,
   "metadata": {},
   "outputs": [],
   "source": [
    "#Verify the column names\n",
    "lchdu = fits.open(lcfile)\n",
    "fits.info(lcfile)\n",
    "lchdu[1].columns"
   ]
  },
  {
   "cell_type": "markdown",
   "metadata": {},
   "source": [
    "### Plot the time series.\n",
    "Let's pull out the interesting data and take a look.  PDC uses cotrending basis vectors calculated by nearby stars to remove common instrumental trends.\n"
   ]
  },
  {
   "cell_type": "code",
   "execution_count": null,
   "metadata": {},
   "outputs": [],
   "source": [
    "lcdata = lchdu[1].data\n",
    "sapflux = lcdata['SAP_FLUX']\n",
    "pdcflux = lcdata['PDCSAP_FLUX']\n",
    "quality = lcdata['QUALITY']\n",
    "time = lcdata['TIME']\n",
    "\n",
    "fig = plt.figure(figsize = (11,4))\n",
    "\n",
    "fig.add_subplot(211)\n",
    "plt.plot(time, sapflux,'.', label = 'SAP')\n",
    "plt.legend(loc = 'lower left')\n",
    "#plt.ylim(1000,6210)  #Zoom in\n",
    "\n",
    "fig.add_subplot(212)\n",
    "plt.plot(time, pdcflux,'.', label = 'PDC')\n",
    "plt.legend(loc = 'lower left')\n",
    "plt.xlabel('TIME (BTJD)')\n",
    "#plt.ylim(50,1500)"
   ]
  },
  {
   "cell_type": "markdown",
   "metadata": {},
   "source": [
    "**Clean-up both plots by removing cadences flagged as anomalous.** The Quality column contains integers that act as binary flags identified in the TESS data. We are going to remove the data that has been flagged by one of the following flags:\n",
    "\n",
    "- Bit 1. Attitude Tweak\n",
    "- Bit 2. Safe Mode\n",
    "- Bit 3. Coarse Point\n",
    "- Bit 4. Earth Point\n",
    "- Bit 5. Argabrightening Event (Sudden brightening across the CCD.)\n",
    "- Bit 6. Reaction Wheel Desaturation\n",
    "- Bit 8. Manual Exclude\n",
    "- Bit 10. Impulsive outlier\n",
    "- Bit 12. Straylight detected\n",
    "\n",
    "The other flags are informational and do not necessarily indicate that the cadence should not be used. However, you may have scientifically valid reasons for removing those cadences as well, so it is worth learning about them. See the [archive manual](https://outerspace.stsci.edu/display/TESS/TESS+Archive+Manual) for a full listing of the flags. \n",
    "\n",
    "In this case most of the flagged points were allready removed from the PDC light curve, but now the bad points are also removed from the SAP light curve.   This one has some really nice flares!"
   ]
  },
  {
   "cell_type": "code",
   "execution_count": null,
   "metadata": {},
   "outputs": [],
   "source": [
    "bad_bits = np.array([1,2,3,4,5,6,8,10,12])\n",
    "value = 0\n",
    "for v in bad_bits:\n",
    "    value = value + 2**(v-1)\n",
    "    \n",
    "bad_data = np.bitwise_and(quality, value) >= 1 \n",
    "\n",
    "#Same plot as before with flagged data removed.\n",
    "fig = plt.figure(figsize = (14,5))\n",
    "fig.add_subplot(211)\n",
    "plt.plot(time[~bad_data], sapflux[~bad_data], '.', label = 'SAP')\n",
    "plt.legend(loc = 'lower left')\n",
    "plt.xlim(1325,1330)\n",
    "fig.add_subplot(212)\n",
    "plt.plot(time[~bad_data], pdcflux[~bad_data], '.', label = 'PDC')\n",
    "plt.legend(loc = 'lower left')\n",
    "plt.xlabel('TIME (BTJD)')\n",
    "plt.xlim(1325,1330)"
   ]
  },
  {
   "cell_type": "markdown",
   "metadata": {},
   "source": [
    "###   Plot the spacecraft motion.   (Optional)\n",
    "We will plot the measured (col,row) position of the star as measured from the flux weighted centroids. The spacecraft dumps the momentum gathered in its wheels every once and a while. We can mark when that happens by using the quality flags (bit 6, see above)."
   ]
  },
  {
   "cell_type": "code",
   "execution_count": null,
   "metadata": {},
   "outputs": [],
   "source": [
    "fluxcent_col = lcdata['MOM_CENTR1']\n",
    "fluxcent_row = lcdata['MOM_CENTR2']\n",
    "distance = ((fluxcent_col-np.nanmean(fluxcent_col))**2 + (fluxcent_row-np.nanmean(fluxcent_row))**2)**(0.5)\n",
    "\n",
    "mom_dump = np.bitwise_and(quality, 2**(6-1)) >= 1 \n",
    "\n",
    "plt.figure(figsize = (13,5))\n",
    "plt.plot(time[~bad_data], distance[~bad_data], '.', label = \"mom_centr distance\")\n",
    "plt.vlines(time[mom_dump], 0,.1, colors = 'r', label = \"Momentum Dump\")\n",
    "plt.xlabel('TIME(BTKD)')\n",
    "plt.legend(loc = \"upper left\")"
   ]
  },
  {
   "cell_type": "markdown",
   "metadata": {},
   "source": [
    "### Light curve and target pixel file problem\n",
    "Using the aperture extension, determine which pixels were used to create the photometric aperture. Change the aperture and create a new light curve for this target. \n",
    "\n",
    "**Some useful information.** Each pixel in the aperture extension image is an integer that represents a set of binary flags.  The entire set of flags and what they mean can be found in the TESS Archive Manual.  Of interest to us in this exersize is which pixels belong to the \"optimal aperture\" used to create this target's light curve. This is the second bit of this set of binary flags. To determine which pixels are in the optimal aperture we need to do a bitwise AND between the pixel value and the value 2. (Similarly, if you wanted to determine which pixels were used to calculate the flux-weighted centroid, you would use the 4th bit which has a value of  2^(4-1)=8.)"
   ]
  },
  {
   "cell_type": "code",
   "execution_count": null,
   "metadata": {},
   "outputs": [],
   "source": [
    "#Your Code here\n",
    "# This one will take more than a couple of lines. So let's do it as a fill in the blank. Look for the !!\n",
    "\n",
    "#Get the optimal aperture image from the target pixel file.\n",
    "#!! Fill in the line below.\n",
    "ap_image = \n",
    "\n",
    "#Here we look to see which are said to be in the optimal aperture\n",
    "ap_want = np.bitwise_and(ap_image, 2) / float(2)  #if the bit is set ap_want will equal 1\n",
    "plt.imshow(ap_want)\n",
    "\n",
    "\n",
    "#This function sums up everything in a defined aperture\n",
    "def aperture_phot(image,aperture):  \n",
    "    flux = np.sum(image[aperture == 1])\n",
    "    return flux\n",
    "\n",
    "#!! You complete this line to pull out the array of images we want from the target pixel file.\n",
    "tpf_flux = \n",
    "\n",
    "#Use the map lambda functions to apply that function to all cadences  (This is a handy trick)\n",
    "opap_flux = np.array(list (map (lambda x: aperture_phot(x,ap_want), tpf_flux ) ) )\n",
    "\n",
    "#!! You write the line to get the times from the target pixel file.\n",
    "time_bjd = \n",
    "\n",
    "#Here we plot the time vs flux\n",
    "plt.figure(figsize = (13,4))\n",
    "plt.plot(time_bjd, opap_flux,'.', label = 'Optimal Aperture', ms = 6)\n",
    "plt.legend(loc = \"lower left\")\n",
    "plt.xlabel('Time (BJD)', fontsize = 14)\n",
    "plt.ylabel('Flux (e-/s)', fontsize = 14)\n",
    "\n",
    "plt.title(\"TESS Lightcurve Derived from Calibrated Pixels.\", fontsize = 14)"
   ]
  },
  {
   "cell_type": "markdown",
   "metadata": {},
   "source": [
    "## Getting the FFI Data\n",
    "TESS also downloads their entire Full Frame Images on a 30-minute cadence. However if you are working with only a few stars, you probably don't want to have to download the entire set of data.  MAST created a tool called TESSCut to allow you to make cutouts of the TESS FFIs and return something that looks like a target pixel file.\n",
    "\n",
    "For this example we are going to investigate tic = \"00214568914\" which shows some weirdness in the 2-min data.\n",
    "\n",
    "It is left as an exercise to plot that light curve from the light curve files.  But I will produce a fancu plot of the TESS Time series data for you to look like from the DV time series files."
   ]
  },
  {
   "cell_type": "code",
   "execution_count": null,
   "metadata": {},
   "outputs": [],
   "source": [
    "import requests\n",
    "from astroquery.mast import Tesscut\n",
    "from astropy.table import Table\n",
    "from astropy.coordinates import SkyCoord\n",
    "import pandas as p\n",
    "\n",
    "import matplotlib.animation as animation\n",
    "\n",
    "# For animation display\n",
    "from matplotlib import rc\n",
    "from IPython.display import HTML\n",
    "rc('animation', html='jshtml')\n",
    "\n",
    "# For bokeh plotting\n",
    "from bokeh import plotting\n",
    "plotting.output_notebook()"
   ]
  },
  {
   "cell_type": "markdown",
   "metadata": {},
   "source": [
    "## Plot the weird event.\n",
    "Here is some code to pull down the flattened DVT light curve that the TESS project uses to search for planets.  Through exo.MAST we have a database of all the DVT time series, so they can be pulled down without retrieving a FITS files. But a TCE needed to be found on that target."
   ]
  },
  {
   "cell_type": "code",
   "execution_count": null,
   "metadata": {},
   "outputs": [],
   "source": [
    "exomast_url = \"https://exo.mast.stsci.edu/api/v0.1/\"\n",
    "tic_id = \"00214568914\"\n",
    "tce = 'TCE_1'\n",
    "\n",
    "#Make a request for the data for this target.\n",
    "dv_lightcurve_query = f\"{exomast_url}dvdata/tess/{tic_id}/table/?tce={tce}\"\n",
    "response = requests.get(dv_lightcurve_query)\n",
    "data_dict = response.json()\n",
    "data = p.DataFrame.from_dict(data_dict['data'])"
   ]
  },
  {
   "cell_type": "code",
   "execution_count": null,
   "metadata": {},
   "outputs": [],
   "source": [
    "detrend = data['LC_DETREND']\n",
    "model = data['MODEL_INIT']\n",
    "time = data['TIME']\n",
    "\n",
    "plt.figure(figsize=(14,4))\n",
    "plt.plot(time,detrend,'.',lw=0.4)\n",
    "plt.plot(time,model,'r-',lw=0.6)\n",
    "plt.xlabel('TIME (BTJD)')\n",
    "plt.ylabel('Relative Flux')\n",
    "plt.xlim(1333,1336)\n",
    "plt.title(\"Weird event in the light curve of this star.\")"
   ]
  },
  {
   "cell_type": "markdown",
   "metadata": {},
   "source": [
    "### Get the FFI Data for a 50x50 pixel area\n",
    "First, we need the ra and dec to tell it the location of the FFIs we want. But you already know how to get the RA and Dec for a particular TIC ID using query_criteria."
   ]
  },
  {
   "cell_type": "code",
   "execution_count": null,
   "metadata": {},
   "outputs": [],
   "source": [
    "#Don't look below, try to remember how query the TIC by ID.\n",
    "#Your code below.\n"
   ]
  },
  {
   "cell_type": "code",
   "execution_count": null,
   "metadata": {},
   "outputs": [],
   "source": [
    "#The answer\n",
    "target=Catalogs.query_criteria(ID=int(tic_id), catalog='Tic')\n",
    "ra = target['ra']\n",
    "dec = target['dec']\n",
    "loc = \"%f, %f\" % (ra, dec)"
   ]
  },
  {
   "cell_type": "markdown",
   "metadata": {},
   "source": [
    "### Query how many sectors of data are available\n",
    "There is only one sector available in this case."
   ]
  },
  {
   "cell_type": "code",
   "execution_count": null,
   "metadata": {},
   "outputs": [],
   "source": [
    "sectors = Tesscut.get_sectors(loc,radius = 0)\n",
    "print(sectors)"
   ]
  },
  {
   "cell_type": "markdown",
   "metadata": {},
   "source": [
    "### Request the time series of images.\n",
    "You must provide the location and the size of the cutout. See the [documentation](https://astroquery.readthedocs.io/en/latest/mast/mast.html#tesscut) for more features.  It returns a list of open FITS files."
   ]
  },
  {
   "cell_type": "code",
   "execution_count": null,
   "metadata": {},
   "outputs": [],
   "source": [
    "hdulist = Tesscut.get_cutouts(loc, 20, sector = 1)"
   ]
  },
  {
   "cell_type": "code",
   "execution_count": null,
   "metadata": {},
   "outputs": [],
   "source": [
    "hdulist[0].info()\n",
    "data = hdulist[0][1].data"
   ]
  },
  {
   "cell_type": "markdown",
   "metadata": {},
   "source": [
    "### Make an movie of the data.\n",
    "A Movie can be one of the best ways to understand what is going on.\n",
    "This movie can take a little while to run, which is why we limit the cadences it is running on.\n",
    "Another way to do this, which is a bit quicker, but couldn't be done within the notebook is with k2flix by Geert Barentsen.\n",
    "\n",
    "As you will see, some scatter light (from Mars) goes across the detector creating the strange signal."
   ]
  },
  {
   "cell_type": "code",
   "execution_count": null,
   "metadata": {},
   "outputs": [],
   "source": [
    "start = np.abs(data['TIME'] - 1332).argmin()\n",
    "stop = np.abs(data['TIME'] - 1336).argmin()\n",
    "\n",
    "def make_animation(data_array, start_frame=0, end_frame=None, vmin=None, vmax=None, delay=50):\n",
    "    \"\"\"\n",
    "    Code stolen from Clara Brasseur.\n",
    "    \n",
    "    Function that takes an array where each frame is a 2D image array and make an animated plot\n",
    "    that runs through the frames.\n",
    "    \n",
    "    Note: This can take a long time to run if you have a lot of frames.    \n",
    "    Parameters\n",
    "    ----------\n",
    "    data_array : array\n",
    "        Array of 2D images.\n",
    "    start_frame : int\n",
    "        The index of the initial frame to show. Default is the first frame.\n",
    "    end_frame : int\n",
    "        The index of the final frame to show. Default is the last frame.\n",
    "    vmin : float\n",
    "        Data range min for the colormap. Defaults to data minimum value.\n",
    "    vmax : float\n",
    "        Data range max for the colormap. Defaults to data maximum value.\n",
    "    delay: \n",
    "        Delay before the next frame is shown in milliseconds.\n",
    "\n",
    "    Returns\n",
    "    -------\n",
    "    response : `animation.FuncAnimation`\n",
    "    \"\"\"\n",
    "    \n",
    "    if not vmin:\n",
    "        vmin = np.min(data_array)\n",
    "    if not vmax:\n",
    "        vmax = np.max(data_array)\n",
    "        \n",
    "    if not end_frame:\n",
    "        end_frame = len(data_array) - 1 # set to the end of the array\n",
    "        \n",
    "    num_frames = end_frame - start_frame + 1 # include the end frame\n",
    "        \n",
    "    def animate(i, fig, ax, binarytab, start=0):\n",
    "        \"\"\"Function used to update the animation\"\"\"\n",
    "        ax.set_title(\"Epoch #\" + str(i+start))\n",
    "        im = ax.imshow(binarytab[i+start], cmap=plt.cm.YlGnBu_r, vmin=vmin, vmax=vmax)\n",
    "        return im,\n",
    "    \n",
    "    # Create initial plot.\n",
    "    fig, ax = plt.subplots(figsize=(8,8))\n",
    "    ax.imshow(data_array[start_frame], cmap=plt.cm.YlGnBu_r, vmin=vmin, vmax=vmax)\n",
    "\n",
    "    ani = animation.FuncAnimation(fig, animate, fargs=(fig, ax, data_array, start_frame), frames=num_frames, \n",
    "                                  interval=delay, repeat_delay=1000)\n",
    "    \n",
    "    plt.close()\n",
    "    \n",
    "    return ani\n",
    "\n",
    "make_animation(data['FLUX'], start, stop, vmax=500)"
   ]
  },
  {
   "cell_type": "markdown",
   "metadata": {},
   "source": [
    "### TessCut Problem\n",
    "Create a light curve from the target pixel file we created.  In this case you have no aperture provided, so you migth just sum up all the pixels. \n"
   ]
  },
  {
   "cell_type": "code",
   "execution_count": null,
   "metadata": {},
   "outputs": [],
   "source": [
    "# Your Code Here\n",
    "tpf_data = hdulist[0][1].data\n",
    "\n",
    "\n"
   ]
  },
  {
   "cell_type": "markdown",
   "metadata": {},
   "source": [
    "Tutorial has now ended. The Answers are below."
   ]
  },
  {
   "cell_type": "code",
   "execution_count": null,
   "metadata": {},
   "outputs": [],
   "source": []
  },
  {
   "cell_type": "code",
   "execution_count": null,
   "metadata": {},
   "outputs": [],
   "source": [
    "#Answers to Astroquery Search.\n",
    "#Problem 1.\n",
    "Catalogs.query_object(target_name, radius=search_radius_deg, catalog=\"TIC\")[\"ID\"][0]\n",
    "#It always returns sorted by distance.  Be careful with high proper motion objects.\n",
    "\n",
    "#Extra Credit Problem 1.\n",
    "Catalogs.query_criteria(catalog=\"Tic\",ID=101014997)['Tmag']\n"
   ]
  },
  {
   "cell_type": "code",
   "execution_count": null,
   "metadata": {},
   "outputs": [],
   "source": [
    "#Problem Query CAOM\n",
    "obsCount = Observations.query_criteria_count(obs_collection = \"TESS\",\n",
    "                                             dataproduct_type = [\"timeseries\"],\n",
    "                                             sequence_number = [1,3],\n",
    "                                             proposal_id = \"*G011113*\")\n",
    "print(\"Number of Observations: %i\" % obsCount)"
   ]
  },
  {
   "cell_type": "code",
   "execution_count": null,
   "metadata": {},
   "outputs": [],
   "source": [
    "#Answers to Data Product Query\n",
    "manifest = Observations.download_products(dataProducts[dataProducts['productSubGroupDescription'] == 'DVT'])\n",
    "\n",
    "#Bonus Problem\n",
    "allDataProd = Observations.get_product_list(obsTable)\n",
    "want = allDataProd['description'] == \"Data validation time series\"\n",
    "print(\"Number of DVT files:  %u\" % len(want[want]))\n",
    "\n",
    "#Second Bonus Problem\n",
    "obsTable = Observations.query_object(\"G185-32\",radius=\".03 deg\")\n",
    "print(np.unique(obsTable['obs_collection']))"
   ]
  },
  {
   "cell_type": "code",
   "execution_count": null,
   "metadata": {},
   "outputs": [],
   "source": [
    "#Answer to the target pixel file problem\n",
    "\n",
    "ap_image = (tphdu[2].data)\n",
    "ap_want = np.bitwise_and(ap_image, 2) / float(2)\n",
    "plt.imshow(ap_want)\n",
    "\n",
    "#uncomment if you want to Add a pixel to the aperture\n",
    "#ap_want[4,5]=True\n",
    "#plt.imshow(ap_want)\n",
    "\n",
    "#define a simple aperture function to sum-up specified pixels for one cadence\n",
    "def aperture_phot(image,aperture):  \n",
    "    flux = np.sum(image[aperture == 1])\n",
    "    return flux\n",
    "\n",
    "#Use the map lambda functions to apply that function to all cadences\n",
    "opap_flux = np.array(list (map (lambda x: aperture_phot(x,ap_want), tpf_data['FLUX'] ) ) )\n",
    "\n",
    "#extract the time.  \n",
    "time_bjd = tpf_data[\"TIME\"]\n",
    "\n",
    "#Plot the time vs flux\n",
    "plt.figure(figsize = (13,4))\n",
    "plt.plot(time_bjd, opap_flux,'.', label = 'Optimal Aperture', ms = 6)\n",
    "plt.legend(loc = \"lower left\")\n",
    "plt.xlabel('Time (BJD)', fontsize = 14)\n",
    "plt.ylabel('Flux (e-/s)', fontsize = 14)\n",
    "\n",
    "plt.title(\"TESS Lightcurve Derived from Calibrated Pixels.\", fontsize = 14)"
   ]
  },
  {
   "cell_type": "code",
   "execution_count": null,
   "metadata": {},
   "outputs": [],
   "source": [
    "#Answer to Tesscut problem\n",
    "tpf_data = hdulist[0][1].data\n",
    "\n",
    "ap_image = (hdulist[0][2].data)\n",
    "ap_want = ap_image\n",
    "plt.imshow(ap_want)\n",
    "\n",
    "#define a simple aperture function to sum-up specified pixels for one cadence\n",
    "def aperture_phot(image,aperture):  \n",
    "    flux = np.sum(image[aperture == 1])\n",
    "    return flux\n",
    "\n",
    "#Use the map lambda functions to apply that function to all cadences\n",
    "opap_flux = np.array(list (map (lambda x: aperture_phot(x,ap_want), tpf_data['FLUX'] ) ) )\n",
    "\n",
    "#extract the time.  \n",
    "time_bjd = tpf_data[\"TIME\"]\n",
    "\n",
    "#Plot the time vs flux\n",
    "plt.figure(figsize = (13,4))\n",
    "plt.plot(time_bjd, opap_flux,'.', label = 'Optimal Aperture', ms = 6)\n",
    "plt.legend(loc = \"lower left\")\n",
    "plt.xlabel('Time (BJD)', fontsize = 14)\n",
    "plt.ylabel('Flux (e-/s)', fontsize = 14)\n",
    "\n",
    "plt.title(\"TESS Lightcurve Derived from Tess Cut.\", fontsize = 14)"
   ]
  },
  {
   "cell_type": "code",
   "execution_count": null,
   "metadata": {},
   "outputs": [],
   "source": []
  },
  {
   "cell_type": "code",
   "execution_count": null,
   "metadata": {},
   "outputs": [],
   "source": []
  }
 ],
 "metadata": {
  "kernelspec": {
   "display_name": "Python 3",
   "language": "python",
   "name": "python3"
  },
  "language_info": {
   "codemirror_mode": {
    "name": "ipython",
    "version": 3
   },
   "file_extension": ".py",
   "mimetype": "text/x-python",
   "name": "python",
   "nbconvert_exporter": "python",
   "pygments_lexer": "ipython3",
   "version": "3.6.7"
  }
 },
 "nbformat": 4,
 "nbformat_minor": 2
}
