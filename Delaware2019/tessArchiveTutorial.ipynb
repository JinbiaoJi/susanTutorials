{
 "cells": [
  {
   "cell_type": "markdown",
   "metadata": {},
   "source": [
    "# TESS Archive Tutorial\n",
    "### By Susan E. Mullally"
   ]
  },
  {
   "cell_type": "markdown",
   "metadata": {},
   "source": [
    "## Querying the TIC"
   ]
  },
  {
   "cell_type": "code",
   "execution_count": 3,
   "metadata": {},
   "outputs": [
    {
     "name": "stderr",
     "output_type": "stream",
     "text": [
      "WARNING: AstropyDeprecationWarning: astropy.extern.six will be removed in 4.0, use the six module directly if it is still needed [astropy.extern.six]\n"
     ]
    }
   ],
   "source": [
    "from astroquery.mast import Catalogs\n",
    "import numpy as np"
   ]
  },
  {
   "cell_type": "markdown",
   "metadata": {},
   "source": [
    "## Astroquery Catalog Cone Search on TIC\n",
    "\n",
    "We will now use the Catalogs `query_object` function to do a cone search centered on BPM 31594 and return the rows from the TIC catalog.  The function makes use of MAST's name resolver to convert a target name (as a string) into coordinates (Right Ascension and Declination).  Many types of ID's are possible, including any string that can be resolved by Simbad or NED, as well as any target in the Kepler Input Catalog, K2 EPIC Catalog, or the TESS Input Catalog.  The function also can accept a search radius size (specified in degrees), and it needs to know which catalog you want to query.  Catalog options are listed on [this page](https://astroquery.readthedocs.io/en/latest/mast/mast.html#catalog-queries).\n"
   ]
  },
  {
   "cell_type": "code",
   "execution_count": 4,
   "metadata": {},
   "outputs": [
    {
     "name": "stdout",
     "output_type": "stream",
     "text": [
      "Number of TIC objects within 0.100000 deg of BPM 31594: 84\n"
     ]
    }
   ],
   "source": [
    "target_name = \"BPM 31594\"  #Pulsating White Dwarf Star\n",
    "search_radius_deg = 0.1\n",
    "\n",
    "# Query the TESS Input Catalog centered on HD 209458 with a 0.2 degree radius.\n",
    "catalogTIC = Catalogs.query_object(target_name, radius=search_radius_deg, catalog=\"TIC\")\n",
    "\n",
    "# Print out the number of returned rows.\n",
    "print(\"Number of TIC objects within %f deg of %s: %u\" % (search_radius_deg, target_name, len(catalogTIC)))"
   ]
  },
  {
   "cell_type": "code",
   "execution_count": 6,
   "metadata": {},
   "outputs": [
    {
     "data": {
      "text/plain": [
       "<TableColumns names=('ID','ra','dec','pmRA','pmDEC','Tmag','objType','typeSrc','version','HIP','TYC','UCAC','TWOMASS','SDSS','ALLWISE','GAIA','APASS','KIC','POSflag','e_pmRA','e_pmDEC','PMflag','plx','e_plx','PARflag','gallong','gallat','eclong','eclat','Bmag','e_Bmag','Vmag','e_Vmag','umag','e_umag','gmag','e_gmag','rmag','e_rmag','imag','e_imag','zmag','e_zmag','Jmag','e_Jmag','Hmag','e_Hmag','Kmag','e_Kmag','TWOMflag','prox','w1mag','e_w1mag','w2mag','e_w2mag','w3mag','e_w3mag','w4mag','e_w4mag','GAIAmag','e_GAIAmag','e_Tmag','TESSflag','SPFlag','Teff','e_Teff','logg','e_logg','MH','e_MH','rad','e_rad','mass','e_mass','rho','e_rho','lumclass','lum','e_lum','d','e_d','ebv','e_ebv','numcont','contratio','disposition','duplicate_id','priority','dstArcSec')>"
      ]
     },
     "execution_count": 6,
     "metadata": {},
     "output_type": "execute_result"
    }
   ],
   "source": [
    "#Print out the columns\n",
    "catalogTIC.columns"
   ]
  },
  {
   "cell_type": "code",
   "execution_count": 8,
   "metadata": {},
   "outputs": [
    {
     "name": "stdout",
     "output_type": "stream",
     "text": [
      "Closest TIC ID to BPM 31594: TIC 101014997, separation of 0.009714 deg. and a TESS mag. of 15.079000\n"
     ]
    }
   ],
   "source": [
    "where_closest = np.argmin(catalogTIC['dstArcSec'])\n",
    "\n",
    "print(\"Closest TIC ID to %s: TIC %s, separation of %f deg. and a TESS mag. of %f\"%\n",
    "      (target_name, catalogTIC['ID'][where_closest], catalogTIC['dstArcSec'][where_closest],\n",
    "      catalogTIC['Tmag'][where_closest]))\n",
    "\n",
    "ticid = catalogTIC['ID'][where_closest]"
   ]
  },
  {
   "cell_type": "markdown",
   "metadata": {},
   "source": [
    "### Problem 1.  TIC Query\n",
    "Determine the ticid of L19-2, a pulsating white dwarf with V magnitude of 13.7."
   ]
  },
  {
   "cell_type": "code",
   "execution_count": 15,
   "metadata": {},
   "outputs": [],
   "source": [
    "target_name = \"L19-2\"\n",
    "#Your code here\n"
   ]
  },
  {
   "cell_type": "markdown",
   "metadata": {},
   "source": [
    "### Extra Credit. Direct TIC Query\n",
    "Directly filter the TIC by the integer tic ID to look up the Tess Mag and RA and Dec of that object in the catalog. This is done by using the Catalogs query_criteria and setting the catalog to \"TIC\".  Take a look at the examples on the [astroquery documentation page](https://astroquery.readthedocs.io/en/latest/mast/mast.html) to see if you can figure out how to filter the TIC by \"ID\"."
   ]
  },
  {
   "cell_type": "code",
   "execution_count": 14,
   "metadata": {},
   "outputs": [],
   "source": [
    "#Your code here\n"
   ]
  },
  {
   "cell_type": "markdown",
   "metadata": {},
   "source": [
    "## Finding Lightcurves at MAST"
   ]
  },
  {
   "cell_type": "code",
   "execution_count": 16,
   "metadata": {},
   "outputs": [],
   "source": [
    "from astroquery.mast import Observations\n",
    "from astropy.io import fits"
   ]
  },
  {
   "cell_type": "markdown",
   "metadata": {},
   "source": [
    "## Query the MAST CAOM Database\n",
    "\n",
    "We want to retrieve TESS timeseries data (lightcurve and target pixel files) for the Guest Investigator program G011113 from Sector 1 (PI: JJ Hermes). We will need to query the MAST holdings database for the observations.  First we will simply count the number of observations and then we will request a table of those observations. \n",
    "\n",
    "All the filter names are listed on the [MAST CAOM Field Description Page](https://mast.stsci.edu/api/v0/_c_a_o_mfields.html). Or, can be found by hovering over the column names after doing a search in the MAST portal.\n",
    "\n",
    "The filters we will need to use are, \n",
    "- **obs_collection** to specify that we want TESS data\n",
    "- **dataproduct_type** to specify that we want timeseries data\n",
    "- **sequence_number** to specify that we want sector 1  \n",
    "- **propsal_id** to specify the GI program number.  \n",
    "\n",
    "Hint! More than one GI can propose for the same target so we need wild cards around the name of the program in our query."
   ]
  },
  {
   "cell_type": "code",
   "execution_count": 26,
   "metadata": {},
   "outputs": [
    {
     "name": "stdout",
     "output_type": "stream",
     "text": [
      "Number of Observations: 109\n"
     ]
    },
    {
     "data": {
      "text/html": [
       "<i>Table masked=True length=5</i>\n",
       "<table id=\"table4539563424\" class=\"table-striped table-bordered table-condensed\">\n",
       "<thead><tr><th>obsid</th><th>proposal_id</th><th>obs_id</th></tr></thead>\n",
       "<thead><tr><th>str11</th><th>str23</th><th>str47</th></tr></thead>\n",
       "<tr><td>17000013114</td><td>G011113</td><td>tess2018206045859-s0001-0000000161154061-0120-s</td></tr>\n",
       "<tr><td>17000009148</td><td>G011113</td><td>tess2018206045859-s0001-0000000140045537-0120-s</td></tr>\n",
       "<tr><td>17000002478</td><td>G011113</td><td>tess2018206045859-s0001-0000000031674330-0120-s</td></tr>\n",
       "<tr><td>17000000402</td><td>G011113</td><td>tess2018206045859-s0001-0000000079353860-0120-s</td></tr>\n",
       "<tr><td>17000014360</td><td>G011113</td><td>tess2018206045859-s0001-0000000325341811-0120-s</td></tr>\n",
       "</table>"
      ],
      "text/plain": [
       "<Table masked=True length=5>\n",
       "   obsid    proposal_id                      obs_id                    \n",
       "   str11       str23                         str47                     \n",
       "----------- ----------- -----------------------------------------------\n",
       "17000013114     G011113 tess2018206045859-s0001-0000000161154061-0120-s\n",
       "17000009148     G011113 tess2018206045859-s0001-0000000140045537-0120-s\n",
       "17000002478     G011113 tess2018206045859-s0001-0000000031674330-0120-s\n",
       "17000000402     G011113 tess2018206045859-s0001-0000000079353860-0120-s\n",
       "17000014360     G011113 tess2018206045859-s0001-0000000325341811-0120-s"
      ]
     },
     "execution_count": 26,
     "metadata": {},
     "output_type": "execute_result"
    }
   ],
   "source": [
    "#Count the number of observations with query_criteria_count\n",
    "obsCount = Observations.query_criteria_count(obs_collection = \"TESS\",\n",
    "                                             dataproduct_type = [\"timeseries\"],\n",
    "                                             sequence_number = 1,\n",
    "                                             proposal_id = \"*G011113*\")\n",
    "print(\"Number of Observations: %i\" % obsCount)\n",
    "\n",
    "#Print the first 5 with query_criteria\n",
    "obsTable = Observations.query_criteria(obs_collection = \"TESS\",\n",
    "                                       dataproduct_type = [\"timeseries\"],\n",
    "                                       sequence_number = 1,\n",
    "                                       proposal_id = \"*G011113*\")\n",
    "obsTable[0:5]['obsid','proposal_id','obs_id']"
   ]
  },
  {
   "cell_type": "markdown",
   "metadata": {},
   "source": [
    "## Retrieve the list of Data Products\n",
    "\n",
    "Next we use astroquery to retrieve the list of data products that are associated with each observation.  \n",
    "\n",
    "We will only ask for the data product list associated with the first two in obsTable.  The `[0:2]` can be removed from the code below to get all the observations."
   ]
  },
  {
   "cell_type": "code",
   "execution_count": 33,
   "metadata": {},
   "outputs": [
    {
     "data": {
      "text/plain": [
       "['obsID',\n",
       " 'obs_collection',\n",
       " 'dataproduct_type',\n",
       " 'obs_id',\n",
       " 'description',\n",
       " 'type',\n",
       " 'dataURI',\n",
       " 'productType',\n",
       " 'productGroupDescription',\n",
       " 'productSubGroupDescription',\n",
       " 'productDocumentationURL',\n",
       " 'project',\n",
       " 'prvversion',\n",
       " 'proposal_id',\n",
       " 'productFilename',\n",
       " 'size',\n",
       " 'parent_obsid']"
      ]
     },
     "execution_count": 33,
     "metadata": {},
     "output_type": "execute_result"
    }
   ],
   "source": [
    "dataProducts = Observations.get_product_list(obsTable[0:2])\n",
    "dataProducts.colnames"
   ]
  },
  {
   "cell_type": "code",
   "execution_count": 28,
   "metadata": {},
   "outputs": [
    {
     "data": {
      "text/html": [
       "<i>Table masked=True length=8</i>\n",
       "<table id=\"table4820788000\" class=\"table-striped table-bordered table-condensed\">\n",
       "<thead><tr><th>obsID</th><th>productFilename</th><th>description</th></tr></thead>\n",
       "<thead><tr><th>str11</th><th>str63</th><th>str27</th></tr></thead>\n",
       "<tr><td>17000009148</td><td>tess2018206190142-s0001-s0001-0000000140045537-00106_dvr.pdf</td><td>full data validation report</td></tr>\n",
       "<tr><td>17000009148</td><td>tess2018206190142-s0001-s0001-0000000140045537-00106_dvr.xml</td><td>full data validation report</td></tr>\n",
       "<tr><td>17000009148</td><td>tess2018206190142-s0001-s0001-0000000140045537-01-00106_dvs.pdf</td><td>TCE summary report</td></tr>\n",
       "<tr><td>17000009148</td><td>tess2018206190142-s0001-s0001-0000000140045537-00106_dvt.fits</td><td>Data validation time series</td></tr>\n",
       "<tr><td>17000009148</td><td>tess2018206045859-s0001-0000000140045537-0120-s_lc.fits</td><td>Light curves</td></tr>\n",
       "<tr><td>17000009148</td><td>tess2018206045859-s0001-0000000140045537-0120-s_tp.fits</td><td>Target pixel files</td></tr>\n",
       "<tr><td>17000013114</td><td>tess2018206045859-s0001-0000000161154061-0120-s_lc.fits</td><td>Light curves</td></tr>\n",
       "<tr><td>17000013114</td><td>tess2018206045859-s0001-0000000161154061-0120-s_tp.fits</td><td>Target pixel files</td></tr>\n",
       "</table>"
      ],
      "text/plain": [
       "<Table masked=True length=8>\n",
       "   obsID    ...         description        \n",
       "   str11    ...            str27           \n",
       "----------- ... ---------------------------\n",
       "17000009148 ... full data validation report\n",
       "17000009148 ... full data validation report\n",
       "17000009148 ...          TCE summary report\n",
       "17000009148 ... Data validation time series\n",
       "17000009148 ...                Light curves\n",
       "17000009148 ...          Target pixel files\n",
       "17000013114 ...                Light curves\n",
       "17000013114 ...          Target pixel files"
      ]
     },
     "execution_count": 28,
     "metadata": {},
     "output_type": "execute_result"
    }
   ],
   "source": [
    "#Print off the list of observations\n",
    "dataProducts['obsID', 'productFilename', 'description']"
   ]
  },
  {
   "cell_type": "markdown",
   "metadata": {},
   "source": [
    "## Download Light curves\n",
    "<a id=\"download\"></a>\n",
    "We limit our list of data products to just those with the **description** set to \"Light curves\" because we just want this type of data file. We then download those products. The manifest is an array indicating the download location of the files. "
   ]
  },
  {
   "cell_type": "code",
   "execution_count": 29,
   "metadata": {},
   "outputs": [
    {
     "name": "stdout",
     "output_type": "stream",
     "text": [
      "Downloading URL https://mast.stsci.edu/api/v0.1/Download/file?uri=mast:TESS/product/tess2018206045859-s0001-0000000140045537-0120-s_lc.fits to ./mastDownload/TESS/tess2018206045859-s0001-0000000140045537-0120-s/tess2018206045859-s0001-0000000140045537-0120-s_lc.fits ... [Done]\n",
      "Downloading URL https://mast.stsci.edu/api/v0.1/Download/file?uri=mast:TESS/product/tess2018206045859-s0001-0000000161154061-0120-s_lc.fits to ./mastDownload/TESS/tess2018206045859-s0001-0000000161154061-0120-s/tess2018206045859-s0001-0000000161154061-0120-s_lc.fits ... [Done]\n",
      "                                                         Local Path                                                         ...\n",
      "--------------------------------------------------------------------------------------------------------------------------- ...\n",
      "./mastDownload/TESS/tess2018206045859-s0001-0000000140045537-0120-s/tess2018206045859-s0001-0000000140045537-0120-s_lc.fits ...\n",
      "./mastDownload/TESS/tess2018206045859-s0001-0000000161154061-0120-s/tess2018206045859-s0001-0000000161154061-0120-s_lc.fits ...\n"
     ]
    }
   ],
   "source": [
    "want = dataProducts['description'] == \"Light curves\"\n",
    "manifest = Observations.download_products(dataProducts[want])\n",
    "print(manifest)"
   ]
  },
  {
   "cell_type": "markdown",
   "metadata": {},
   "source": [
    "### Problem 2.\n",
    "Looks like the TESS SPOC pipeline found a TCE (Threshold Crossing Event) when it searched these data for indications of periodic tansits. When a TCE is found, the SPOC pipeline also creates a DV time series FITS file.  Download just the DV time series file for the first observation.\n",
    "\n",
    "Some of the other fields you might consider filtering on are listed [here](https://outerspace.stsci.edu/display/TESS/7.0+-+Tips+and+Tricks+to+Getting+TESS+Data+At+MAST).\n",
    "\n",
    "### Bonus Problem.\n",
    "How many of the sector 1 targets produced a TCE."
   ]
  },
  {
   "cell_type": "code",
   "execution_count": 37,
   "metadata": {},
   "outputs": [],
   "source": [
    "#Your code here.\n",
    "\n",
    "#Bonus Problem\n"
   ]
  },
  {
   "cell_type": "markdown",
   "metadata": {},
   "source": [
    "## Exploring and Plotting the Light Curve File\n"
   ]
  },
  {
   "cell_type": "code",
   "execution_count": null,
   "metadata": {},
   "outputs": [],
   "source": []
  },
  {
   "cell_type": "code",
   "execution_count": null,
   "metadata": {},
   "outputs": [],
   "source": []
  },
  {
   "cell_type": "code",
   "execution_count": null,
   "metadata": {},
   "outputs": [],
   "source": []
  },
  {
   "cell_type": "code",
   "execution_count": null,
   "metadata": {},
   "outputs": [],
   "source": []
  },
  {
   "cell_type": "code",
   "execution_count": null,
   "metadata": {},
   "outputs": [],
   "source": []
  },
  {
   "cell_type": "code",
   "execution_count": null,
   "metadata": {},
   "outputs": [],
   "source": [
    "#Answers to Astroquery Search.\n",
    "#Problem 1.\n",
    "Catalogs.query_object(target_name, radius=search_radius_deg, catalog=\"TIC\")[\"ID\"][0]\n",
    "#It always returns sorted by distance.  Be careful with high proper motion objects.\n",
    "\n",
    "#Bonus Problem 1.\n",
    "Catalogs.query_criteria(catalog=\"Tic\",ID=101014997)['Tmag']\n"
   ]
  },
  {
   "cell_type": "code",
   "execution_count": null,
   "metadata": {},
   "outputs": [],
   "source": [
    "#Answers to Data Product Query\n",
    "manifest = Observations.download_products(dataProducts[dataProducts['productSubGroupDescription'] == 'DVT'])\n",
    "\n",
    "#Bonus Problem\n",
    "allDataProd = Observations.get_product_list(obsTable)\n",
    "want = allDataProd['description'] == \"Data validation time series\"\n",
    "print(\"Number of DVT files:  %u\" % len(want[want]))"
   ]
  }
 ],
 "metadata": {
  "kernelspec": {
   "display_name": "Python 3",
   "language": "python",
   "name": "python3"
  },
  "language_info": {
   "codemirror_mode": {
    "name": "ipython",
    "version": 3
   },
   "file_extension": ".py",
   "mimetype": "text/x-python",
   "name": "python",
   "nbconvert_exporter": "python",
   "pygments_lexer": "ipython3",
   "version": "3.6.7"
  }
 },
 "nbformat": 4,
 "nbformat_minor": 2
}
